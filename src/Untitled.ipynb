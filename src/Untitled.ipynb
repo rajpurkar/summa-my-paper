{
 "cells": [
  {
   "cell_type": "code",
   "execution_count": 57,
   "metadata": {
    "collapsed": false
   },
   "outputs": [],
   "source": [
    "import ashlib.ling.pos\n",
    "\n",
    "import infrastructure\n",
    "\n",
    "import sentquality"
   ]
  },
  {
   "cell_type": "code",
   "execution_count": 69,
   "metadata": {
    "collapsed": false
   },
   "outputs": [],
   "source": [
    "reload(infrastructure)\n",
    "dataSet = infrastructure.defaultDataSet()"
   ]
  },
  {
   "cell_type": "code",
   "execution_count": 70,
   "metadata": {
    "collapsed": false
   },
   "outputs": [
    {
     "name": "stdout",
     "output_type": "stream",
     "text": [
      "The wolf had the fox with him, and whatsoever the wolf\n",
      "wished, that the fox was compelled to do, for he was the\n",
      "weaker, and he would gladly have been rid of his master.\n",
      "It chanced that once as they were going through the forest, the wolf\n",
      "said, red-fox, get me something to eat, or else I will eat\n",
      "you yourself.  Then the fox answered, I know a farm-yard where\n",
      "there are two young lambs.  If you are inclined, we will fetch one\n",
      "of them.  That suited the wolf, and they went thither, and the fox\n",
      "stole the little lamb, took it to the wolf, and went away.  The\n",
      "wolf devoured it, but was not satisfied with one.  He wanted the\n",
      "other as well, and went to get it.  But as he did it so clumsily,\n",
      "the mother of the little lamb heard him, and began to cry out\n",
      "terribly, and to bleat so that the farmers came running there.\n",
      "They found the wolf, and beat him so mercilessly, that he went\n",
      "to the fox limping and howling.  You have misled me finely, said\n",
      "he.  I wanted to fetch the other lamb, and the country folks\n",
      "surprised me, and have beaten me to a jelly.  The fox replied,\n",
      "why are you such a glutton.\n",
      "Next day they again went into the country, and the greedy wolf\n",
      "once more said, red-fox, get me something to eat, or I will\n",
      "eat you yourself.  Then answered the fox, I know a farm-house\n",
      "where the wife is baking pancakes to-night.  We will get some\n",
      "of them for ourselves.  They went there, and the fox slipped\n",
      "round the house, and peeped and sniffed about until he discovered\n",
      "where the dish was, and then snatched six pancakes and carried\n",
      "them to the wolf.\n",
      "There is something for you to eat, said he to him, and then went\n",
      "his way.  The wolf swallowed down the pancakes in an instant,\n",
      "and said, they make one want more, and went thither and tore the\n",
      "whole dish down so that it broke in pieces.  This made such\n",
      "a great noise that the woman came out, and when she saw the\n",
      "wolf she called the people, who hurried there, and beat him as\n",
      "long as their sticks would hold together, till with two lame\n",
      "legs, and howling loudly, he returned to the fox in the forest.\n",
      "How abominably you have misled me, cried he, the peasants caught\n",
      "me, and tanned my skin for me.  But the fox replied, why are\n",
      "you such a glutton.\n",
      "On the third day, when they were out together, and the wolf\n",
      "could only limp along painfully, he again said, red-fox, get me\n",
      "something to eat, or I will eat your yourself.  The fox\n",
      "answered, I\n",
      "know a man who has been killing, and the salted meat is lying\n",
      "in a barrel in the cellar.  We will get that.  Said the wolf, I\n",
      "will go when you do, that you may help me if I am not able to\n",
      "get away.  I am willing, said the fox, and showed him the by-paths\n",
      "and ways by which at length they reached the cellar.  There was\n",
      "meat in abundance, and the wolf attacked it instantly and thought,\n",
      "there is plenty of time before I need leave off.  The fox liked\n",
      "it also, but looked about everywhere, and often ran to the hole\n",
      "by which they had come in, to find out if his body was still\n",
      "thin enough to slip through it.  The wolf said, dear fox, tell\n",
      "me why you are running here and there so much, and jumping in\n",
      "and out.\n",
      "I must see that no one is coming, replied the crafty fellow.\n",
      "Don't eat too much.  Then said the wolf, I shall not leave until\n",
      "the barrel is empty.  In the meantime the farmer, who had heard\n",
      "the noise of the fox's jumping, came into the cellar.  When the\n",
      "fox saw him he was out of the hole at one bound.  The wolf\n",
      "wanted to follow him, but he had made himself so fat with\n",
      "eating that he could no longer get through, but stuck fast.  Then\n",
      "came the farmer with a cudgel and struck him dead, but the fox\n",
      "bounded into the forest, glad to be rid of the old glutton.\n",
      "\n"
     ]
    }
   ],
   "source": [
    "print dataSet[0].text.gloss"
   ]
  },
  {
   "cell_type": "code",
   "execution_count": 28,
   "metadata": {
    "collapsed": false
   },
   "outputs": [],
   "source": [
    "reload(sentquality)\n",
    "qualityPredictor = sentquality.SentenceQualityPredictor(sentquality.PrecisionQualityCalculator(), sentquality.BOWFeaturizer())"
   ]
  },
  {
   "cell_type": "code",
   "execution_count": 29,
   "metadata": {
    "collapsed": false
   },
   "outputs": [
    {
     "name": "stdout",
     "output_type": "stream",
     "text": [
      "[]\n",
      "[]\n"
     ]
    },
    {
     "ename": "TypeError",
     "evalue": "'NoneType' object is not iterable",
     "output_type": "error",
     "traceback": [
      "\u001b[0;31m---------------------------------------------------------------------------\u001b[0m",
      "\u001b[0;31mTypeError\u001b[0m                                 Traceback (most recent call last)",
      "\u001b[0;32m<ipython-input-29-75ffe3f3c4c4>\u001b[0m in \u001b[0;36m<module>\u001b[0;34m()\u001b[0m\n\u001b[0;32m----> 1\u001b[0;31m \u001b[0mqualityPredictor\u001b[0m\u001b[0;34m.\u001b[0m\u001b[0mtrain\u001b[0m\u001b[0;34m(\u001b[0m\u001b[0mdataSet\u001b[0m\u001b[0;34m)\u001b[0m\u001b[0;34m\u001b[0m\u001b[0m\n\u001b[0m",
      "\u001b[0;32m/Users/ashkonfarhangi/Documents/__Projects/Code/Summa/summa-my-paper/src/sentquality.pyc\u001b[0m in \u001b[0;36mtrain\u001b[0;34m(self, dataSet)\u001b[0m\n\u001b[1;32m     72\u001b[0m         \u001b[0;32mfor\u001b[0m \u001b[0mstory\u001b[0m \u001b[0;32min\u001b[0m \u001b[0mdataSet\u001b[0m\u001b[0;34m:\u001b[0m\u001b[0;34m\u001b[0m\u001b[0m\n\u001b[1;32m     73\u001b[0m             \u001b[0mself\u001b[0m\u001b[0;34m.\u001b[0m\u001b[0mcalibrate\u001b[0m\u001b[0;34m(\u001b[0m\u001b[0mstory\u001b[0m\u001b[0;34m.\u001b[0m\u001b[0mtext\u001b[0m\u001b[0;34m)\u001b[0m\u001b[0;34m\u001b[0m\u001b[0m\n\u001b[0;32m---> 74\u001b[0;31m             \u001b[0mself\u001b[0m\u001b[0;34m.\u001b[0m\u001b[0mqualityCalculator\u001b[0m\u001b[0;34m.\u001b[0m\u001b[0mcalibrate\u001b[0m\u001b[0;34m(\u001b[0m\u001b[0mstory\u001b[0m\u001b[0;34m.\u001b[0m\u001b[0msummary\u001b[0m\u001b[0;34m)\u001b[0m\u001b[0;34m\u001b[0m\u001b[0m\n\u001b[0m\u001b[1;32m     75\u001b[0m             \u001b[0;32mfor\u001b[0m \u001b[0msentence\u001b[0m \u001b[0;32min\u001b[0m \u001b[0mstory\u001b[0m\u001b[0;34m.\u001b[0m\u001b[0mtext\u001b[0m\u001b[0;34m.\u001b[0m\u001b[0msentences\u001b[0m\u001b[0;34m:\u001b[0m\u001b[0;34m\u001b[0m\u001b[0m\n\u001b[1;32m     76\u001b[0m                 \u001b[0msentences\u001b[0m\u001b[0;34m.\u001b[0m\u001b[0mappend\u001b[0m\u001b[0;34m(\u001b[0m\u001b[0msentence\u001b[0m\u001b[0;34m)\u001b[0m\u001b[0;34m\u001b[0m\u001b[0m\n",
      "\u001b[0;32m/Users/ashkonfarhangi/Documents/__Projects/Code/Summa/summa-my-paper/src/sentquality.pyc\u001b[0m in \u001b[0;36mcalibrate\u001b[0;34m(self, summary)\u001b[0m\n\u001b[1;32m    109\u001b[0m \u001b[0;34m\u001b[0m\u001b[0m\n\u001b[1;32m    110\u001b[0m     \u001b[0;32mdef\u001b[0m \u001b[0mcalibrate\u001b[0m\u001b[0;34m(\u001b[0m\u001b[0mself\u001b[0m\u001b[0;34m,\u001b[0m \u001b[0msummary\u001b[0m\u001b[0;34m)\u001b[0m\u001b[0;34m:\u001b[0m\u001b[0;34m\u001b[0m\u001b[0m\n\u001b[0;32m--> 111\u001b[0;31m         \u001b[0mself\u001b[0m\u001b[0;34m.\u001b[0m\u001b[0msummaryWords\u001b[0m \u001b[0;34m=\u001b[0m \u001b[0mset\u001b[0m\u001b[0;34m(\u001b[0m\u001b[0mself\u001b[0m\u001b[0;34m.\u001b[0m\u001b[0mpreprocess\u001b[0m\u001b[0;34m(\u001b[0m\u001b[0msummary\u001b[0m\u001b[0;34m.\u001b[0m\u001b[0mwords\u001b[0m\u001b[0;34m(\u001b[0m\u001b[0;34m)\u001b[0m\u001b[0;34m)\u001b[0m\u001b[0;34m)\u001b[0m\u001b[0;34m\u001b[0m\u001b[0m\n\u001b[0m\u001b[1;32m    112\u001b[0m \u001b[0;34m\u001b[0m\u001b[0m\n\u001b[1;32m    113\u001b[0m     \u001b[0;32mdef\u001b[0m \u001b[0mcalculate\u001b[0m\u001b[0;34m(\u001b[0m\u001b[0mself\u001b[0m\u001b[0;34m,\u001b[0m \u001b[0msentence\u001b[0m\u001b[0;34m)\u001b[0m\u001b[0;34m:\u001b[0m\u001b[0;34m\u001b[0m\u001b[0m\n",
      "\u001b[0;31mTypeError\u001b[0m: 'NoneType' object is not iterable"
     ]
    }
   ],
   "source": [
    "qualityPredictor.train(dataSet)"
   ]
  },
  {
   "cell_type": "code",
   "execution_count": null,
   "metadata": {
    "collapsed": true
   },
   "outputs": [],
   "source": []
  }
 ],
 "metadata": {
  "kernelspec": {
   "display_name": "Python 2",
   "language": "python",
   "name": "python2"
  },
  "language_info": {
   "codemirror_mode": {
    "name": "ipython",
    "version": 2
   },
   "file_extension": ".py",
   "mimetype": "text/x-python",
   "name": "python",
   "nbconvert_exporter": "python",
   "pygments_lexer": "ipython2",
   "version": "2.7.10"
  }
 },
 "nbformat": 4,
 "nbformat_minor": 0
}
